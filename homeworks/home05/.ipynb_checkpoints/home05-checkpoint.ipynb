{
 "cells": [
  {
   "cell_type": "markdown",
   "id": "72c57578",
   "metadata": {},
   "source": [
    "## Практическое задание 5"
   ]
  },
  {
   "cell_type": "code",
   "execution_count": 1,
   "id": "406ee1f8",
   "metadata": {},
   "outputs": [],
   "source": [
    "import numpy as np"
   ]
  },
  {
   "cell_type": "markdown",
   "id": "ed60dfde",
   "metadata": {},
   "source": [
    "1. Найти с помощью NumPy SVD для матрицы\n",
    "\n",
    "$$\\begin{pmatrix}\n",
    "1 & 2 & 0\\\\ \n",
    "0 & 0 & 5\\\\ \n",
    "3 & -4 & 2\\\\ \n",
    "1 & 6 & 5\\\\ \n",
    "0 & 1 & 0\n",
    "\\end{pmatrix}.$$"
   ]
  },
  {
   "cell_type": "code",
   "execution_count": 4,
   "id": "52d35dae",
   "metadata": {},
   "outputs": [
    {
     "data": {
      "text/plain": [
       "array([[ 1,  2,  0],\n",
       "       [ 0,  0,  5],\n",
       "       [ 3, -4,  2],\n",
       "       [ 1,  6,  5],\n",
       "       [ 0,  1,  0]])"
      ]
     },
     "execution_count": 4,
     "metadata": {},
     "output_type": "execute_result"
    }
   ],
   "source": [
    "A = np.array([[1, 2, 0], [0, 0, 5], [3, -4, 2], [1, 6, 5], [0, 1, 0]])\n",
    "A"
   ]
  },
  {
   "cell_type": "code",
   "execution_count": 6,
   "id": "b3860eab",
   "metadata": {},
   "outputs": [
    {
     "data": {
      "text/plain": [
       "(array([[ 0.17056501,  0.15680918, -0.53077508, -0.79905375, -0.16158397],\n",
       "        [ 0.39287016, -0.52933945,  0.6134793 , -0.43375771,  0.03082495],\n",
       "        [-0.14366152, -0.82449256, -0.52379105,  0.14049848,  0.07400343],\n",
       "        [ 0.88843702,  0.06074346, -0.24655277,  0.37755832, -0.06042632],\n",
       "        [ 0.08125046,  0.10831843, -0.08231425, -0.10524851,  0.98173958]]),\n",
       " array([8.82486885, 6.14060608, 2.53271528]),\n",
       " array([[ 0.07116451,  0.71702467,  0.69340553],\n",
       "        [-0.36737824,  0.66514082, -0.65009301],\n",
       "        [-0.92734505, -0.20847855,  0.31075368]]))"
      ]
     },
     "execution_count": 6,
     "metadata": {},
     "output_type": "execute_result"
    }
   ],
   "source": [
    "U, s, W = np.linalg.svd(A)\n",
    "U, s, W"
   ]
  },
  {
   "cell_type": "code",
   "execution_count": 15,
   "id": "5c9b4be3",
   "metadata": {},
   "outputs": [
    {
     "name": "stdout",
     "output_type": "stream",
     "text": [
      "Матрица D:\n",
      " [[8.82486885 0.         0.        ]\n",
      " [0.         6.14060608 0.        ]\n",
      " [0.         0.         2.53271528]\n",
      " [0.         0.         0.        ]\n",
      " [0.         0.         0.        ]]\n",
      "Матрица V:\n",
      " [[ 0.07116451 -0.36737824 -0.92734505]\n",
      " [ 0.71702467  0.66514082 -0.20847855]\n",
      " [ 0.69340553 -0.65009301  0.31075368]]\n",
      "Матрица U:\n",
      " [[ 0.17056501  0.15680918 -0.53077508 -0.79905375 -0.16158397]\n",
      " [ 0.39287016 -0.52933945  0.6134793  -0.43375771  0.03082495]\n",
      " [-0.14366152 -0.82449256 -0.52379105  0.14049848  0.07400343]\n",
      " [ 0.88843702  0.06074346 -0.24655277  0.37755832 -0.06042632]\n",
      " [ 0.08125046  0.10831843 -0.08231425 -0.10524851  0.98173958]]\n"
     ]
    }
   ],
   "source": [
    "V = W.T\n",
    "D = np.zeros_like(A, dtype=float)\n",
    "D[np.diag_indices(min(A.shape))] = s\n",
    "print(f\"Матрица D:\\n {D}\")\n",
    "print(f\"Матрица V:\\n {V}\")\n",
    "print(f\"Матрица U:\\n {U}\")"
   ]
  },
  {
   "cell_type": "code",
   "execution_count": 31,
   "id": "10070f50",
   "metadata": {},
   "outputs": [
    {
     "name": "stdout",
     "output_type": "stream",
     "text": [
      "[[ 1.00000000e+00  2.00000000e+00  1.31018987e-15]\n",
      " [ 1.93009612e-16 -2.66609409e-15  5.00000000e+00]\n",
      " [ 3.00000000e+00 -4.00000000e+00  2.00000000e+00]\n",
      " [ 1.00000000e+00  6.00000000e+00  5.00000000e+00]\n",
      " [-5.49534701e-17  1.00000000e+00 -3.02821608e-17]]\n"
     ]
    }
   ],
   "source": [
    "# Проведем проверку\n",
    "A1 = U @ D @ V.T\n",
    "print(f'{A1}')"
   ]
  },
  {
   "cell_type": "markdown",
   "id": "ee884d95",
   "metadata": {},
   "source": [
    "2. Для матрицы из предыдущего задания найти:\n",
    "\n",
    "    а) евклидову норму;\n",
    "    \n",
    "    б) норму Фробениуса."
   ]
  },
  {
   "cell_type": "code",
   "execution_count": 34,
   "id": "481bf2cd",
   "metadata": {},
   "outputs": [
    {
     "name": "stdout",
     "output_type": "stream",
     "text": [
      "Евклидова норма  : 8.824868854820444\n",
      "Фробениуса норма : 11.045361017187261\n"
     ]
    }
   ],
   "source": [
    "print(f\"Евклидова норма  : {np.linalg.norm(A, ord=2)}\")\n",
    "print(f\"Фробениуса норма : {np.linalg.norm(A, ord='fro')}\")"
   ]
  },
  {
   "cell_type": "code",
   "execution_count": null,
   "id": "29982ef1",
   "metadata": {},
   "outputs": [],
   "source": []
  }
 ],
 "metadata": {
  "kernelspec": {
   "display_name": "Python 3 (ipykernel)",
   "language": "python",
   "name": "python3"
  },
  "language_info": {
   "codemirror_mode": {
    "name": "ipython",
    "version": 3
   },
   "file_extension": ".py",
   "mimetype": "text/x-python",
   "name": "python",
   "nbconvert_exporter": "python",
   "pygments_lexer": "ipython3",
   "version": "3.7.3"
  }
 },
 "nbformat": 4,
 "nbformat_minor": 5
}
